{
 "cells": [
  {
   "cell_type": "markdown",
   "metadata": {},
   "source": [
    "# Microbit Probing"
   ]
  },
  {
   "cell_type": "code",
   "execution_count": 5,
   "metadata": {},
   "outputs": [
    {
     "name": "stdout",
     "output_type": "stream",
     "text": [
      "client connected\n"
     ]
    }
   ],
   "source": [
    "import asyncio\n",
    "import logging\n",
    "import traceback\n",
    "import time\n",
    "\n",
    "from bleak import BleakClient\n",
    "\n",
    "NOT_FOUND_LABEL = \"NOT FOUND\"\n",
    "UNDEFINED_LABEL = \"UNDEFINED\"\n",
    "\n",
    "address = NOT_FOUND_LABEL\n",
    "uuid = UNDEFINED_LABEL\n",
    "model = UNDEFINED_LABEL\n",
    "bdate = UNDEFINED_LABEL \n",
    "\n",
    "address = ('ED:B9:4A:79:34:B4')\n",
    "\n",
    "client = BleakClient(address)\n",
    "\n",
    "counter = 0\n",
    "while( not client.is_connected):\n",
    "    await client.connect()\n",
    "    counter += 1\n",
    "    if client.is_connected:\n",
    "        print('client connected')\n",
    "        break\n",
    "    if (counter >= 1000):\n",
    "        print('timed out')\n",
    "        break\n"
   ]
  },
  {
   "cell_type": "code",
   "execution_count": 6,
   "metadata": {},
   "outputs": [
    {
     "data": {
      "text/plain": [
       "True"
      ]
     },
     "execution_count": 6,
     "metadata": {},
     "output_type": "execute_result"
    }
   ],
   "source": [
    "await client.pair()"
   ]
  },
  {
   "cell_type": "code",
   "execution_count": 7,
   "metadata": {},
   "outputs": [
    {
     "name": "stdout",
     "output_type": "stream",
     "text": [
      "00001800-0000-1000-8000-00805f9b34fb (Handle: 1): Generic Access Profile\n",
      "00001801-0000-1000-8000-00805f9b34fb (Handle: 10): Generic Attribute Profile\n",
      "0000fe59-0000-1000-8000-00805f9b34fb (Handle: 14): Nordic Semiconductor ASA\n",
      "e97dd91d-251d-470a-a062-fa1922dfa9a8 (Handle: 18): Unknown\n",
      "0000180a-0000-1000-8000-00805f9b34fb (Handle: 22): Device Information\n",
      "e95d93af-251d-470a-a062-fa1922dfa9a8 (Handle: 29): MicroBit Event Service\n"
     ]
    }
   ],
   "source": [
    "for service in client.services:\n",
    "    print(service)"
   ]
  },
  {
   "cell_type": "code",
   "execution_count": 8,
   "metadata": {},
   "outputs": [
    {
     "name": "stdout",
     "output_type": "stream",
     "text": [
      "[Service] 00001800-0000-1000-8000-00805f9b34fb: Generic Access Profile\n",
      "Device Name - 00002a00-0000-1000-8000-00805f9b34fb -> b'BBC micro:bit [zugeg]'\n",
      "\t[Characteristic] 00002a00-0000-1000-8000-00805f9b34fb: (read) | Name: Device Name, Value: b'BBC micro:bit [zugeg]' \n",
      "Appearance - 00002a01-0000-1000-8000-00805f9b34fb -> b'\\x00\\x00'\n",
      "\t[Characteristic] 00002a01-0000-1000-8000-00805f9b34fb: (read) | Name: Appearance, Value: b'\\x00\\x00' \n",
      "Peripheral Preferred Connection Parameters - 00002a04-0000-1000-8000-00805f9b34fb -> b'\\x08\\x00\\x10\\x00\\x00\\x00\\x90\\x01'\n",
      "\t[Characteristic] 00002a04-0000-1000-8000-00805f9b34fb: (read) | Name: Peripheral Preferred Connection Parameters, Value: b'\\x08\\x00\\x10\\x00\\x00\\x00\\x90\\x01' \n",
      "Central Address Resolution - 00002aa6-0000-1000-8000-00805f9b34fb -> b'\\x01'\n",
      "\t[Characteristic] 00002aa6-0000-1000-8000-00805f9b34fb: (read) | Name: Central Address Resolution, Value: b'\\x01' \n",
      "[Service] 00001801-0000-1000-8000-00805f9b34fb: Generic Attribute Profile\n",
      "EXCEPTION:<function format_exception at 0x000001E3B16A8AF0>\n",
      "\t[Characteristic] 00002a05-0000-1000-8000-00805f9b34fb: (indicate) | Name: Service Changed, Value: None \n",
      "\t\t[Descriptor] 00002902-0000-1000-8000-00805f9b34fb: (Handle: 13) | Value: b'\\x02\\x00' \n",
      "[Service] 0000fe59-0000-1000-8000-00805f9b34fb: Nordic Semiconductor ASA\n",
      "EXCEPTION:<function format_exception at 0x000001E3B16A8AF0>\n",
      "\t[Characteristic] 8ec90004-f315-4f60-9fb8-838830daea50: (write,indicate) | Name: Secure Buttonless DFU, Value: None \n"
     ]
    },
    {
     "ename": "OSError",
     "evalue": "[WinError -2147483629] The object has been closed",
     "output_type": "error",
     "traceback": [
      "\u001b[1;31m---------------------------------------------------------------------------\u001b[0m",
      "\u001b[1;31mOSError\u001b[0m                                   Traceback (most recent call last)",
      "Cell \u001b[1;32mIn[8], line 22\u001b[0m\n\u001b[0;32m     20\u001b[0m \u001b[38;5;28mprint\u001b[39m(\u001b[38;5;124mf\u001b[39m\u001b[38;5;124m\"\u001b[39m\u001b[38;5;130;01m\\t\u001b[39;00m\u001b[38;5;124m[Characteristic] \u001b[39m\u001b[38;5;132;01m{\u001b[39;00mchar\u001b[38;5;241m.\u001b[39muuid\u001b[38;5;132;01m}\u001b[39;00m\u001b[38;5;124m: (\u001b[39m\u001b[38;5;132;01m{\u001b[39;00m\u001b[38;5;124m'\u001b[39m\u001b[38;5;124m,\u001b[39m\u001b[38;5;124m'\u001b[39m\u001b[38;5;241m.\u001b[39mjoin(char\u001b[38;5;241m.\u001b[39mproperties)\u001b[38;5;132;01m}\u001b[39;00m\u001b[38;5;124m) | Name: \u001b[39m\u001b[38;5;132;01m{\u001b[39;00mchar\u001b[38;5;241m.\u001b[39mdescription\u001b[38;5;132;01m}\u001b[39;00m\u001b[38;5;124m, Value: \u001b[39m\u001b[38;5;132;01m{\u001b[39;00mvalue\u001b[38;5;132;01m}\u001b[39;00m\u001b[38;5;124m \u001b[39m\u001b[38;5;124m\"\u001b[39m)\n\u001b[0;32m     21\u001b[0m \u001b[38;5;28;01mfor\u001b[39;00m descriptor \u001b[38;5;129;01min\u001b[39;00m char\u001b[38;5;241m.\u001b[39mdescriptors:\n\u001b[1;32m---> 22\u001b[0m     value \u001b[38;5;241m=\u001b[39m \u001b[38;5;28;01mawait\u001b[39;00m client\u001b[38;5;241m.\u001b[39mread_gatt_descriptor(descriptor\u001b[38;5;241m.\u001b[39mhandle)\n\u001b[0;32m     23\u001b[0m     \u001b[38;5;28mprint\u001b[39m(\u001b[38;5;124mf\u001b[39m\u001b[38;5;124m\"\u001b[39m\u001b[38;5;130;01m\\t\u001b[39;00m\u001b[38;5;130;01m\\t\u001b[39;00m\u001b[38;5;124m[Descriptor] \u001b[39m\u001b[38;5;132;01m{\u001b[39;00mdescriptor\u001b[38;5;241m.\u001b[39muuid\u001b[38;5;132;01m}\u001b[39;00m\u001b[38;5;124m: (Handle: \u001b[39m\u001b[38;5;132;01m{\u001b[39;00mdescriptor\u001b[38;5;241m.\u001b[39mhandle\u001b[38;5;132;01m}\u001b[39;00m\u001b[38;5;124m) | Value: \u001b[39m\u001b[38;5;132;01m{\u001b[39;00m\u001b[38;5;28mbytes\u001b[39m(value)\u001b[38;5;132;01m}\u001b[39;00m\u001b[38;5;124m \u001b[39m\u001b[38;5;124m\"\u001b[39m)\n",
      "File \u001b[1;32mc:\\Users\\ed.bisdee\\AppData\\Local\\Programs\\Python\\Python38\\lib\\site-packages\\bleak\\__init__.py:748\u001b[0m, in \u001b[0;36mBleakClient.read_gatt_descriptor\u001b[1;34m(self, handle, **kwargs)\u001b[0m\n\u001b[0;32m    737\u001b[0m \u001b[39masync\u001b[39;00m \u001b[39mdef\u001b[39;00m \u001b[39mread_gatt_descriptor\u001b[39m(\u001b[39mself\u001b[39m, handle: \u001b[39mint\u001b[39m, \u001b[39m*\u001b[39m\u001b[39m*\u001b[39mkwargs) \u001b[39m-\u001b[39m\u001b[39m>\u001b[39m \u001b[39mbytearray\u001b[39m:\n\u001b[0;32m    738\u001b[0m \u001b[39m    \u001b[39m\u001b[39m\"\"\"\u001b[39;00m\n\u001b[0;32m    739\u001b[0m \u001b[39m    Perform read operation on the specified GATT descriptor.\u001b[39;00m\n\u001b[0;32m    740\u001b[0m \n\u001b[1;32m   (...)\u001b[0m\n\u001b[0;32m    746\u001b[0m \n\u001b[0;32m    747\u001b[0m \u001b[39m    \"\"\"\u001b[39;00m\n\u001b[1;32m--> 748\u001b[0m     \u001b[39mreturn\u001b[39;00m \u001b[39mawait\u001b[39;00m \u001b[39mself\u001b[39m\u001b[39m.\u001b[39m_backend\u001b[39m.\u001b[39mread_gatt_descriptor(handle, \u001b[39m*\u001b[39m\u001b[39m*\u001b[39mkwargs)\n",
      "File \u001b[1;32mc:\\Users\\ed.bisdee\\AppData\\Local\\Programs\\Python\\Python38\\lib\\site-packages\\bleak\\backends\\winrt\\client.py:824\u001b[0m, in \u001b[0;36mBleakClientWinRT.read_gatt_descriptor\u001b[1;34m(self, handle, **kwargs)\u001b[0m\n\u001b[0;32m    819\u001b[0m \u001b[39mif\u001b[39;00m \u001b[39mnot\u001b[39;00m descriptor:\n\u001b[0;32m    820\u001b[0m     \u001b[39mraise\u001b[39;00m BleakError(\u001b[39mf\u001b[39m\u001b[39m\"\u001b[39m\u001b[39mDescriptor with handle \u001b[39m\u001b[39m{\u001b[39;00mhandle\u001b[39m}\u001b[39;00m\u001b[39m was not found!\u001b[39m\u001b[39m\"\u001b[39m)\n\u001b[0;32m    822\u001b[0m value \u001b[39m=\u001b[39m \u001b[39mbytearray\u001b[39m(\n\u001b[0;32m    823\u001b[0m     _ensure_success(\n\u001b[1;32m--> 824\u001b[0m         \u001b[39mawait\u001b[39;00m descriptor\u001b[39m.\u001b[39mobj\u001b[39m.\u001b[39mread_value_async(\n\u001b[0;32m    825\u001b[0m             BluetoothCacheMode\u001b[39m.\u001b[39mCACHED\n\u001b[0;32m    826\u001b[0m             \u001b[39mif\u001b[39;00m use_cached\n\u001b[0;32m    827\u001b[0m             \u001b[39melse\u001b[39;00m BluetoothCacheMode\u001b[39m.\u001b[39mUNCACHED\n\u001b[0;32m    828\u001b[0m         ),\n\u001b[0;32m    829\u001b[0m         \u001b[39m\"\u001b[39m\u001b[39mvalue\u001b[39m\u001b[39m\"\u001b[39m,\n\u001b[0;32m    830\u001b[0m         \u001b[39mf\u001b[39m\u001b[39m\"\u001b[39m\u001b[39mCould not read Descriptor value for \u001b[39m\u001b[39m{\u001b[39;00mhandle\u001b[39m:\u001b[39;00m\u001b[39m04X\u001b[39m\u001b[39m}\u001b[39;00m\u001b[39m\"\u001b[39m,\n\u001b[0;32m    831\u001b[0m     )\n\u001b[0;32m    832\u001b[0m )\n\u001b[0;32m    834\u001b[0m logger\u001b[39m.\u001b[39mdebug(\u001b[39m\"\u001b[39m\u001b[39mRead Descriptor \u001b[39m\u001b[39m%04X\u001b[39;00m\u001b[39m : \u001b[39m\u001b[39m%s\u001b[39;00m\u001b[39m\"\u001b[39m, handle, value)\n\u001b[0;32m    836\u001b[0m \u001b[39mreturn\u001b[39;00m value\n",
      "\u001b[1;31mOSError\u001b[0m: [WinError -2147483629] The object has been closed"
     ]
    }
   ],
   "source": [
    "for service in client.services:\n",
    "    print(f\"[Service] {service.uuid}: {service.description}\")\n",
    "    for char in service.characteristics:\n",
    "        characteristic = char\n",
    "        try:\n",
    "            uuid = bytes(await client.read_gatt_char(char.uuid))\n",
    "        except:\n",
    "            print(f'EXCEPTION:{traceback.format_exception}')\n",
    "\n",
    "        properties = char.properties\n",
    "        desc = char.description\n",
    "        if \"read\" in char.properties:\n",
    "            try:\n",
    "                value = bytes(await client.read_gatt_char(char.uuid))\n",
    "                print(f\"{char.description} - {char.uuid} -> {value}\")\n",
    "            except Exception as e:\n",
    "                value = str(e).encode()\n",
    "        else:\n",
    "            value = None\n",
    "        print(f\"\\t[Characteristic] {char.uuid}: ({','.join(char.properties)}) | Name: {char.description}, Value: {value} \")\n",
    "        for descriptor in char.descriptors:\n",
    "            value = await client.read_gatt_descriptor(descriptor.handle)\n",
    "            print(f\"\\t\\t[Descriptor] {descriptor.uuid}: (Handle: {descriptor.handle}) | Value: {bytes(value)} \")"
   ]
  },
  {
   "cell_type": "code",
   "execution_count": 3,
   "metadata": {},
   "outputs": [
    {
     "data": {
      "text/plain": [
       "True"
      ]
     },
     "execution_count": 3,
     "metadata": {},
     "output_type": "execute_result"
    }
   ],
   "source": [
    "await client.disconnect()"
   ]
  },
  {
   "cell_type": "code",
   "execution_count": 4,
   "metadata": {},
   "outputs": [
    {
     "data": {
      "text/plain": [
       "False"
      ]
     },
     "execution_count": 4,
     "metadata": {},
     "output_type": "execute_result"
    }
   ],
   "source": [
    "client.is_connected"
   ]
  },
  {
   "cell_type": "code",
   "execution_count": null,
   "metadata": {},
   "outputs": [],
   "source": []
  }
 ],
 "metadata": {
  "kernelspec": {
   "display_name": "Python 3.8.10 64-bit",
   "language": "python",
   "name": "python3"
  },
  "language_info": {
   "codemirror_mode": {
    "name": "ipython",
    "version": 3
   },
   "file_extension": ".py",
   "mimetype": "text/x-python",
   "name": "python",
   "nbconvert_exporter": "python",
   "pygments_lexer": "ipython3",
   "version": "3.8.10"
  },
  "orig_nbformat": 4,
  "vscode": {
   "interpreter": {
    "hash": "78e90a727851e485d5f1ead1f88910482c4bc1fa05371e29f96c9ced0c7e162f"
   }
  }
 },
 "nbformat": 4,
 "nbformat_minor": 2
}
