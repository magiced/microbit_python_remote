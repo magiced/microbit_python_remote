{
 "cells": [
  {
   "cell_type": "markdown",
   "metadata": {},
   "source": [
    "# Microbit Probing"
   ]
  },
  {
   "cell_type": "code",
   "execution_count": 1,
   "metadata": {},
   "outputs": [
    {
     "name": "stdout",
     "output_type": "stream",
     "text": [
      "client connected\n"
     ]
    }
   ],
   "source": [
    "import asyncio\n",
    "import logging\n",
    "import traceback\n",
    "import time\n",
    "\n",
    "from bleak import BleakClient\n",
    "\n",
    "NOT_FOUND_LABEL = \"NOT FOUND\"\n",
    "UNDEFINED_LABEL = \"UNDEFINED\"\n",
    "\n",
    "address = NOT_FOUND_LABEL\n",
    "uuid = UNDEFINED_LABEL\n",
    "model = UNDEFINED_LABEL\n",
    "bdate = UNDEFINED_LABEL \n",
    "\n",
    "address = ('ED:B9:4A:79:34:B4')\n",
    "\n",
    "client = BleakClient(address)\n",
    "\n",
    "counter = 0\n",
    "while( not client.is_connected):\n",
    "    await client.connect()\n",
    "    counter += 1\n",
    "    if client.is_connected:\n",
    "        print('client connected')\n",
    "        break\n",
    "    if (counter >= 1000):\n",
    "        print('timed out')\n",
    "        break\n"
   ]
  },
  {
   "cell_type": "code",
   "execution_count": 2,
   "metadata": {},
   "outputs": [
    {
     "ename": "AttributeError",
     "evalue": "'NoneType' object has no attribute 'device_information'",
     "output_type": "error",
     "traceback": [
      "\u001b[1;31m---------------------------------------------------------------------------\u001b[0m",
      "\u001b[1;31mAttributeError\u001b[0m                            Traceback (most recent call last)",
      "Cell \u001b[1;32mIn[2], line 1\u001b[0m\n\u001b[1;32m----> 1\u001b[0m \u001b[38;5;28;01mawait\u001b[39;00m client\u001b[38;5;241m.\u001b[39mpair()\n",
      "File \u001b[1;32mc:\\Users\\ed.bisdee\\AppData\\Local\\Programs\\Python\\Python38\\lib\\site-packages\\bleak\\__init__.py:555\u001b[0m, in \u001b[0;36mBleakClient.pair\u001b[1;34m(self, *args, **kwargs)\u001b[0m\n\u001b[0;32m    542\u001b[0m \u001b[39masync\u001b[39;00m \u001b[39mdef\u001b[39;00m \u001b[39mpair\u001b[39m(\u001b[39mself\u001b[39m, \u001b[39m*\u001b[39margs, \u001b[39m*\u001b[39m\u001b[39m*\u001b[39mkwargs) \u001b[39m-\u001b[39m\u001b[39m>\u001b[39m \u001b[39mbool\u001b[39m:\n\u001b[0;32m    543\u001b[0m \u001b[39m    \u001b[39m\u001b[39m\"\"\"\u001b[39;00m\n\u001b[0;32m    544\u001b[0m \u001b[39m    Pair with the specified GATT server.\u001b[39;00m\n\u001b[0;32m    545\u001b[0m \n\u001b[1;32m   (...)\u001b[0m\n\u001b[0;32m    553\u001b[0m \n\u001b[0;32m    554\u001b[0m \u001b[39m    \"\"\"\u001b[39;00m\n\u001b[1;32m--> 555\u001b[0m     \u001b[39mreturn\u001b[39;00m \u001b[39mawait\u001b[39;00m \u001b[39mself\u001b[39m\u001b[39m.\u001b[39m_backend\u001b[39m.\u001b[39mpair(\u001b[39m*\u001b[39margs, \u001b[39m*\u001b[39m\u001b[39m*\u001b[39mkwargs)\n",
      "File \u001b[1;32mc:\\Users\\ed.bisdee\\AppData\\Local\\Programs\\Python\\Python38\\lib\\site-packages\\bleak\\backends\\winrt\\client.py:540\u001b[0m, in \u001b[0;36mBleakClientWinRT.pair\u001b[1;34m(self, protection_level, **kwargs)\u001b[0m\n\u001b[0;32m    524\u001b[0m \u001b[39m\u001b[39m\u001b[39m\"\"\"Attempts to pair with the device.\u001b[39;00m\n\u001b[0;32m    525\u001b[0m \n\u001b[0;32m    526\u001b[0m \u001b[39mKeyword Args:\u001b[39;00m\n\u001b[1;32m   (...)\u001b[0m\n\u001b[0;32m    536\u001b[0m \n\u001b[0;32m    537\u001b[0m \u001b[39m\"\"\"\u001b[39;00m\n\u001b[0;32m    538\u001b[0m \u001b[39m# New local device information object created since the object from the requester isn't updated\u001b[39;00m\n\u001b[0;32m    539\u001b[0m device_information \u001b[39m=\u001b[39m \u001b[39mawait\u001b[39;00m DeviceInformation\u001b[39m.\u001b[39mcreate_from_id_async(\n\u001b[1;32m--> 540\u001b[0m     \u001b[39mself\u001b[39;49m\u001b[39m.\u001b[39;49m_requester\u001b[39m.\u001b[39;49mdevice_information\u001b[39m.\u001b[39mid\n\u001b[0;32m    541\u001b[0m )\n\u001b[0;32m    542\u001b[0m \u001b[39mif\u001b[39;00m (\n\u001b[0;32m    543\u001b[0m     device_information\u001b[39m.\u001b[39mpairing\u001b[39m.\u001b[39mcan_pair\n\u001b[0;32m    544\u001b[0m     \u001b[39mand\u001b[39;00m \u001b[39mnot\u001b[39;00m device_information\u001b[39m.\u001b[39mpairing\u001b[39m.\u001b[39mis_paired\n\u001b[0;32m    545\u001b[0m ):\n\u001b[0;32m    546\u001b[0m \n\u001b[0;32m    547\u001b[0m     \u001b[39m# Currently only supporting Just Works solutions...\u001b[39;00m\n\u001b[0;32m    548\u001b[0m     ceremony \u001b[39m=\u001b[39m DevicePairingKinds\u001b[39m.\u001b[39mCONFIRM_ONLY\n",
      "\u001b[1;31mAttributeError\u001b[0m: 'NoneType' object has no attribute 'device_information'"
     ]
    },
    {
     "ename": "",
     "evalue": "",
     "output_type": "error",
     "traceback": [
      "The Kernel crashed while executing code in the the current cell or a previous cell. Please review the code in the cell(s) to identify a possible cause of the failure. Click <a href='https://aka.ms/vscodeJupyterKernelCrash'>here</a> for more info. View Jupyter <a href='command:jupyter.viewOutput'>log</a> for further details."
     ]
    }
   ],
   "source": [
    "await client.pair()"
   ]
  },
  {
   "cell_type": "code",
   "execution_count": 4,
   "metadata": {},
   "outputs": [
    {
     "name": "stdout",
     "output_type": "stream",
     "text": [
      "00001800-0000-1000-8000-00805f9b34fb (Handle: 1): Generic Access Profile\n",
      "00001801-0000-1000-8000-00805f9b34fb (Handle: 10): Generic Attribute Profile\n",
      "0000fe59-0000-1000-8000-00805f9b34fb (Handle: 14): Nordic Semiconductor ASA\n",
      "e97dd91d-251d-470a-a062-fa1922dfa9a8 (Handle: 18): Unknown\n",
      "0000180a-0000-1000-8000-00805f9b34fb (Handle: 22): Device Information\n",
      "e95d93af-251d-470a-a062-fa1922dfa9a8 (Handle: 29): MicroBit Event Service\n"
     ]
    }
   ],
   "source": [
    "for service in client.services:\n",
    "    print(service)"
   ]
  },
  {
   "cell_type": "code",
   "execution_count": 5,
   "metadata": {},
   "outputs": [
    {
     "name": "stdout",
     "output_type": "stream",
     "text": [
      "[Service] 00001800-0000-1000-8000-00805f9b34fb: Generic Access Profile\n",
      "EXCEPTION:<function format_exception at 0x0000020A06C87AF0>\n",
      "\t[Characteristic] 00002a00-0000-1000-8000-00805f9b34fb: (read) | Name: Device Name, Value: b'Not connected' \n",
      "EXCEPTION:<function format_exception at 0x0000020A06C87AF0>\n",
      "\t[Characteristic] 00002a01-0000-1000-8000-00805f9b34fb: (read) | Name: Appearance, Value: b'Not connected' \n",
      "EXCEPTION:<function format_exception at 0x0000020A06C87AF0>\n",
      "\t[Characteristic] 00002a04-0000-1000-8000-00805f9b34fb: (read) | Name: Peripheral Preferred Connection Parameters, Value: b'Not connected' \n",
      "EXCEPTION:<function format_exception at 0x0000020A06C87AF0>\n",
      "\t[Characteristic] 00002aa6-0000-1000-8000-00805f9b34fb: (read) | Name: Central Address Resolution, Value: b'Not connected' \n",
      "[Service] 00001801-0000-1000-8000-00805f9b34fb: Generic Attribute Profile\n",
      "EXCEPTION:<function format_exception at 0x0000020A06C87AF0>\n",
      "\t[Characteristic] 00002a05-0000-1000-8000-00805f9b34fb: (indicate) | Name: Service Changed, Value: None \n"
     ]
    },
    {
     "ename": "BleakError",
     "evalue": "Not connected",
     "output_type": "error",
     "traceback": [
      "\u001b[1;31m---------------------------------------------------------------------------\u001b[0m",
      "\u001b[1;31mBleakError\u001b[0m                                Traceback (most recent call last)",
      "Cell \u001b[1;32mIn[5], line 22\u001b[0m\n\u001b[0;32m     20\u001b[0m \u001b[38;5;28mprint\u001b[39m(\u001b[38;5;124mf\u001b[39m\u001b[38;5;124m\"\u001b[39m\u001b[38;5;130;01m\\t\u001b[39;00m\u001b[38;5;124m[Characteristic] \u001b[39m\u001b[38;5;132;01m{\u001b[39;00mchar\u001b[38;5;241m.\u001b[39muuid\u001b[38;5;132;01m}\u001b[39;00m\u001b[38;5;124m: (\u001b[39m\u001b[38;5;132;01m{\u001b[39;00m\u001b[38;5;124m'\u001b[39m\u001b[38;5;124m,\u001b[39m\u001b[38;5;124m'\u001b[39m\u001b[38;5;241m.\u001b[39mjoin(char\u001b[38;5;241m.\u001b[39mproperties)\u001b[38;5;132;01m}\u001b[39;00m\u001b[38;5;124m) | Name: \u001b[39m\u001b[38;5;132;01m{\u001b[39;00mchar\u001b[38;5;241m.\u001b[39mdescription\u001b[38;5;132;01m}\u001b[39;00m\u001b[38;5;124m, Value: \u001b[39m\u001b[38;5;132;01m{\u001b[39;00mvalue\u001b[38;5;132;01m}\u001b[39;00m\u001b[38;5;124m \u001b[39m\u001b[38;5;124m\"\u001b[39m)\n\u001b[0;32m     21\u001b[0m \u001b[38;5;28;01mfor\u001b[39;00m descriptor \u001b[38;5;129;01min\u001b[39;00m char\u001b[38;5;241m.\u001b[39mdescriptors:\n\u001b[1;32m---> 22\u001b[0m     value \u001b[38;5;241m=\u001b[39m \u001b[38;5;28;01mawait\u001b[39;00m client\u001b[38;5;241m.\u001b[39mread_gatt_descriptor(descriptor\u001b[38;5;241m.\u001b[39mhandle)\n\u001b[0;32m     23\u001b[0m     \u001b[38;5;28mprint\u001b[39m(\u001b[38;5;124mf\u001b[39m\u001b[38;5;124m\"\u001b[39m\u001b[38;5;130;01m\\t\u001b[39;00m\u001b[38;5;130;01m\\t\u001b[39;00m\u001b[38;5;124m[Descriptor] \u001b[39m\u001b[38;5;132;01m{\u001b[39;00mdescriptor\u001b[38;5;241m.\u001b[39muuid\u001b[38;5;132;01m}\u001b[39;00m\u001b[38;5;124m: (Handle: \u001b[39m\u001b[38;5;132;01m{\u001b[39;00mdescriptor\u001b[38;5;241m.\u001b[39mhandle\u001b[38;5;132;01m}\u001b[39;00m\u001b[38;5;124m) | Value: \u001b[39m\u001b[38;5;132;01m{\u001b[39;00m\u001b[38;5;28mbytes\u001b[39m(value)\u001b[38;5;132;01m}\u001b[39;00m\u001b[38;5;124m \u001b[39m\u001b[38;5;124m\"\u001b[39m)\n",
      "File \u001b[1;32mc:\\Users\\ed.bisdee\\AppData\\Local\\Programs\\Python\\Python38\\lib\\site-packages\\bleak\\__init__.py:748\u001b[0m, in \u001b[0;36mBleakClient.read_gatt_descriptor\u001b[1;34m(self, handle, **kwargs)\u001b[0m\n\u001b[0;32m    737\u001b[0m \u001b[39masync\u001b[39;00m \u001b[39mdef\u001b[39;00m \u001b[39mread_gatt_descriptor\u001b[39m(\u001b[39mself\u001b[39m, handle: \u001b[39mint\u001b[39m, \u001b[39m*\u001b[39m\u001b[39m*\u001b[39mkwargs) \u001b[39m-\u001b[39m\u001b[39m>\u001b[39m \u001b[39mbytearray\u001b[39m:\n\u001b[0;32m    738\u001b[0m \u001b[39m    \u001b[39m\u001b[39m\"\"\"\u001b[39;00m\n\u001b[0;32m    739\u001b[0m \u001b[39m    Perform read operation on the specified GATT descriptor.\u001b[39;00m\n\u001b[0;32m    740\u001b[0m \n\u001b[1;32m   (...)\u001b[0m\n\u001b[0;32m    746\u001b[0m \n\u001b[0;32m    747\u001b[0m \u001b[39m    \"\"\"\u001b[39;00m\n\u001b[1;32m--> 748\u001b[0m     \u001b[39mreturn\u001b[39;00m \u001b[39mawait\u001b[39;00m \u001b[39mself\u001b[39m\u001b[39m.\u001b[39m_backend\u001b[39m.\u001b[39mread_gatt_descriptor(handle, \u001b[39m*\u001b[39m\u001b[39m*\u001b[39mkwargs)\n",
      "File \u001b[1;32mc:\\Users\\ed.bisdee\\AppData\\Local\\Programs\\Python\\Python38\\lib\\site-packages\\bleak\\backends\\winrt\\client.py:814\u001b[0m, in \u001b[0;36mBleakClientWinRT.read_gatt_descriptor\u001b[1;34m(self, handle, **kwargs)\u001b[0m\n\u001b[0;32m    800\u001b[0m \u001b[39m\u001b[39m\u001b[39m\"\"\"Perform read operation on the specified GATT descriptor.\u001b[39;00m\n\u001b[0;32m    801\u001b[0m \n\u001b[0;32m    802\u001b[0m \u001b[39mArgs:\u001b[39;00m\n\u001b[1;32m   (...)\u001b[0m\n\u001b[0;32m    811\u001b[0m \n\u001b[0;32m    812\u001b[0m \u001b[39m\"\"\"\u001b[39;00m\n\u001b[0;32m    813\u001b[0m \u001b[39mif\u001b[39;00m \u001b[39mnot\u001b[39;00m \u001b[39mself\u001b[39m\u001b[39m.\u001b[39mis_connected:\n\u001b[1;32m--> 814\u001b[0m     \u001b[39mraise\u001b[39;00m BleakError(\u001b[39m\"\u001b[39m\u001b[39mNot connected\u001b[39m\u001b[39m\"\u001b[39m)\n\u001b[0;32m    816\u001b[0m use_cached \u001b[39m=\u001b[39m kwargs\u001b[39m.\u001b[39mget(\u001b[39m\"\u001b[39m\u001b[39muse_cached\u001b[39m\u001b[39m\"\u001b[39m, \u001b[39mFalse\u001b[39;00m)\n\u001b[0;32m    818\u001b[0m descriptor \u001b[39m=\u001b[39m \u001b[39mself\u001b[39m\u001b[39m.\u001b[39mservices\u001b[39m.\u001b[39mget_descriptor(handle)\n",
      "\u001b[1;31mBleakError\u001b[0m: Not connected"
     ]
    }
   ],
   "source": [
    "for service in client.services:\n",
    "    print(f\"[Service] {service.uuid}: {service.description}\")\n",
    "    for char in service.characteristics:\n",
    "        characteristic = char\n",
    "        try:\n",
    "            uuid = bytes(await client.read_gatt_char(char.uuid))\n",
    "        except:\n",
    "            print(f'EXCEPTION:{traceback.format_exception}')\n",
    "\n",
    "        properties = char.properties\n",
    "        desc = char.description\n",
    "        if \"read\" in char.properties:\n",
    "            try:\n",
    "                value = bytes(await client.read_gatt_char(char.uuid))\n",
    "                print(f\"{char.description} - {char.uuid} -> {value}\")\n",
    "            except Exception as e:\n",
    "                value = str(e).encode()\n",
    "        else:\n",
    "            value = None\n",
    "        print(f\"\\t[Characteristic] {char.uuid}: ({','.join(char.properties)}) | Name: {char.description}, Value: {value} \")\n",
    "        for descriptor in char.descriptors:\n",
    "            value = await client.read_gatt_descriptor(descriptor.handle)\n",
    "            print(f\"\\t\\t[Descriptor] {descriptor.uuid}: (Handle: {descriptor.handle}) | Value: {bytes(value)} \")"
   ]
  },
  {
   "cell_type": "code",
   "execution_count": 5,
   "metadata": {},
   "outputs": [
    {
     "data": {
      "text/plain": [
       "True"
      ]
     },
     "execution_count": 5,
     "metadata": {},
     "output_type": "execute_result"
    }
   ],
   "source": [
    "await client.disconnect()"
   ]
  },
  {
   "cell_type": "code",
   "execution_count": 4,
   "metadata": {},
   "outputs": [
    {
     "data": {
      "text/plain": [
       "False"
      ]
     },
     "execution_count": 4,
     "metadata": {},
     "output_type": "execute_result"
    }
   ],
   "source": [
    "client.is_connected"
   ]
  },
  {
   "cell_type": "code",
   "execution_count": null,
   "metadata": {},
   "outputs": [],
   "source": [
    "\n",
    "await client.write_gatt_char(DEVICE_NAME_UUID, data)"
   ]
  },
  {
   "cell_type": "markdown",
   "metadata": {},
   "source": [
    "e95d93af-251d-470a-a062-fa1922dfa9a8\n",
    "0x9775b84c540423c4\n",
    "\n",
    "[Service] e95d93af-251d-470a-a062-fa1922dfa9a8: MicroBit Event Service\n",
    "EXCEPTION:<function format_exception at 0x000001E8B99A0820>\n",
    "        [Characteristic] e95d9775-251d-470a-a062-fa1922dfa9a8: (read,notify) | Name: MicroBit Event Data, Value: b'Could not read characteristic handle 30: Protocol Error 0x05: Insufficient Authentication'\n",
    "                [Descriptor] 00002902-0000-1000-8000-00805f9b34fb: (Handle: 32) | Value: b'\\x00\\x00' \n",
    "EXCEPTION:<function format_exception at 0x000001E8B99A0820>\n",
    "        [Characteristic] e95d5404-251d-470a-a062-fa1922dfa9a8: (write-without-response,write) | Name: MicroBit Client Events, Value: None \n",
    "EXCEPTION:<function format_exception at 0x000001E8B99A0820>"
   ]
  },
  {
   "cell_type": "code",
   "execution_count": null,
   "metadata": {},
   "outputs": [],
   "source": [
    "MES_REMOTE_CONTROL_ID = 1001\n",
    "MES_REMOTE_CONTROL_EVT_PLAY = 1\n",
    "MES_REMOTE_CONTROL_EVT_PAUSE = 2\n",
    "MES_REMOTE_CONTROL_EVT_STOP = 3\n",
    "MES_REMOTE_CONTROL_EVT_NEXTTRACK = 4\n",
    "MES_REMOTE_CONTROL_EVT_PREVTRACK = 5\n",
    "MES_REMOTE_CONTROL_EVT_FORWARD = 6\n",
    "MES_REMOTE_CONTROL_EVT_REWIND = 7\n",
    "MES_REMOTE_CONTROL_EVT_VOLUMEUP = 8\n",
    "MES_REMOTE_CONTROL_EVT_VOLUMEDOWN = 9\n",
    "\n",
    "MES_CAMERA_ID = 1002\n",
    "MES_CAMERA_EVT_LAUNCH_PHOTO_MODE = 1\n",
    "MES_CAMERA_EVT_LAUNCH_VIDEO_MODE = 2\n",
    "MES_CAMERA_EVT_TAKE_PHOTO = 3\n",
    "MES_CAMERA_EVT_START_VIDEO_CAPTURE = 4\n",
    "MES_CAMERA_EVT_STOP_VIDEO_CAPTURE = 5\n",
    "MES_CAMERA_EVT_STOP_PHOTO_MODE = 6\n",
    "MES_CAMERA_EVT_STOP_VIDEO_MODE = 7\n",
    "MES_CAMERA_EVT_TOGGLE_FRONT_REAR = 8\n",
    "\n",
    "MES_ALERTS_ID = 1004\n",
    "MES_ALERT_EVT_DISPLAY_TOAST = 1\n",
    "MES_ALERT_EVT_VIBRATE = 2\n",
    "MES_ALERT_EVT_PLAY_SOUND = 3\n",
    "MES_ALERT_EVT_PLAY_RINGTONE = 4\n",
    "MES_ALERT_EVT_FIND_MY_PHONE = 5\n",
    "MES_ALERT_EVT_ALARM1 = 6\n",
    "MES_ALERT_EVT_ALARM2 = 7\n",
    "MES_ALERT_EVT_ALARM3 = 8\n",
    "MES_ALERT_EVT_ALARM4 = 9\n",
    "MES_ALERT_EVT_ALARM5 = 10\n",
    "MES_ALERT_EVT_ALARM6 = 11\n",
    "\n",
    "MES_SIGNAL_STRENGTH_ID = 1101\n",
    "MES_SIGNAL_STRENGTH_EVT_NO_BAR = 1\n",
    "MES_SIGNAL_STRENGTH_EVT_ONE_BAR = 2\n",
    "MES_SIGNAL_STRENGTH_EVT_TWO_BAR = 3\n",
    "MES_SIGNAL_STRENGTH_EVT_THREE_BAR = 4\n",
    "MES_SIGNAL_STRENGTH_EVT_FOUR_BAR = 5\n",
    "\n",
    "MES_DEVICE_INFO_ID = 1103\n",
    "MES_DEVICE_ORIENTATION_LANDSCAPE = 1\n",
    "MES_DEVICE_ORIENTATION_PORTRAIT = 2\n",
    "MES_DEVICE_GESTURE_NONE = 3\n",
    "MES_DEVICE_GESTURE_DEVICE_SHAKEN = 4\n",
    "MES_DEVICE_DISPLAY_OFF = 5\n",
    "MES_DEVICE_DISPLAY_ON = 6\n",
    "MES_DEVICE_INCOMING_CALL = 7\n",
    "MES_DEVICE_INCOMING_MESSAGE = 8\n",
    "\n",
    "MES_DPAD_CONTROLLER_ID = 1104\n",
    "MES_DPAD_BUTTON_A_DOWN = 1\n",
    "MES_DPAD_BUTTON_A_UP = 2\n",
    "MES_DPAD_BUTTON_B_DOWN = 3\n",
    "MES_DPAD_BUTTON_B_UP = 4\n",
    "MES_DPAD_BUTTON_C_DOWN = 5\n",
    "MES_DPAD_BUTTON_C_UP = 6\n",
    "MES_DPAD_BUTTON_D_DOWN = 7\n",
    "MES_DPAD_BUTTON_D_UP = 8\n",
    "MES_DPAD_BUTTON_1_DOWN = 9\n",
    "MES_DPAD_BUTTON_1_UP = 10\n",
    "MES_DPAD_BUTTON_2_DOWN = 11\n",
    "MES_DPAD_BUTTON_2_UP = 12\n",
    "MES_DPAD_BUTTON_3_DOWN = 13\n",
    "MES_DPAD_BUTTON_3_UP = 14\n",
    "MES_DPAD_BUTTON_4_DOWN = 15\n",
    "MES_DPAD_BUTTON_4_UP = 16\n",
    "\n",
    "MES_BROADCAST_GENERAL_ID = 2000"
   ]
  }
 ],
 "metadata": {
  "kernelspec": {
   "display_name": "Python 3.8.10 64-bit",
   "language": "python",
   "name": "python3"
  },
  "language_info": {
   "codemirror_mode": {
    "name": "ipython",
    "version": 3
   },
   "file_extension": ".py",
   "mimetype": "text/x-python",
   "name": "python",
   "nbconvert_exporter": "python",
   "pygments_lexer": "ipython3",
   "version": "3.8.10"
  },
  "orig_nbformat": 4,
  "vscode": {
   "interpreter": {
    "hash": "78e90a727851e485d5f1ead1f88910482c4bc1fa05371e29f96c9ced0c7e162f"
   }
  }
 },
 "nbformat": 4,
 "nbformat_minor": 2
}
