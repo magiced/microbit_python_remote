{
 "cells": [
  {
   "cell_type": "code",
   "execution_count": 9,
   "metadata": {},
   "outputs": [
    {
     "name": "stdout",
     "output_type": "stream",
     "text": [
      "String is 370 characters long\n",
      "Error: String is too long!\n",
      "['bananas', 'apples', 'cheese', 'figs', 'melons', 'cherry', 'pears', 'peach', 'bananas', 'apples', 'cheese', 'figs', 'melons', 'cherry', 'pears', 'peach', 'bananas', 'apples', 'cheese', 'figs', 'melons', 'cherry', 'pears', 'peach', 'bananas', 'apples', 'cheese', 'figs', 'melons', 'cherry', 'pears', 'peach', 'bananas', 'apples', 'cheese', 'figs', 'melons', 'cherry', 'pears', 'peach', 'bananas', 'apples', 'cheese', 'figs', 'melons', 'cherry', 'pears', 'peach', 'bananas', 'apples', 'cheese', 'figs', 'melons', 'cherry', 'pears', 'peach']\n",
      "['cherry', 'melons', 'pears', 'bananas', 'figs', 'cheese', 'pears', 'apples', 'cherry', 'peach', 'pears', 'melons', 'apples', 'bananas', 'apples', 'peach', 'melons', 'cheese', 'figs', 'melons', 'cherry', 'pears', 'bananas', 'cherry', 'pears', 'apples', 'pears', 'figs', 'cherry', 'cherry', 'apples', 'pears', 'apples', 'figs', 'melons', 'cheese', 'peach', 'peach', 'cherry', 'cheese', 'melons', 'melons', 'bananas', 'figs', 'bananas', 'bananas', 'cheese', 'cheese', 'peach', 'apples', 'bananas', 'figs', 'figs', 'peach', 'cheese', 'peach']\n",
      "cherry,melons,pears,bananas,figs,cheese,pears,apples,cherry,peach,pears,melons,apples,bananas,apples,peach,melons,cheese,figs,melons,cherry,pears,bananas,cherry,pears,apples,pears,figs,cherry,cherry,apples,pears,apples,figs,melons,cheese,peach,peach,cherry,cheese,melons,melons,bananas,figs,bananas,bananas,cheese,cheese,peach,apples,bananas,figs,figs,peach,cheese,peach,\n"
     ]
    }
   ],
   "source": [
    "import random\n",
    "\n",
    "string = \"bananas,apples,cheese,figs,melons,cherry,pears,peach,bananas,apples,cheese,figs,melons,cherry,pears,peach,bananas,apples,cheese,figs,melons,cherry,pears,peach,bananas,apples,cheese,figs,melons,cherry,pears,peach,bananas,apples,cheese,figs,melons,cherry,pears,peach,bananas,apples,cheese,figs,melons,cherry,pears,peach,bananas,apples,cheese,figs,melons,cherry,pears,peach\"\n",
    "\n",
    "tokens = string.split(',')\n",
    "length = len(string)\n",
    "\n",
    "print(f\"String is {length} characters long\")\n",
    "if (length > 350):\n",
    "    print(\"Error: String is too long!\")\n",
    "\n",
    "print(tokens)\n",
    "\n",
    "random_tokens = []\n",
    "string_out = ''\n",
    "for i in range(len(tokens)):\n",
    "    rand_index = random.randint(0,len(tokens)-1)\n",
    "    this_token = tokens[rand_index]\n",
    "    random_tokens.append(this_token)\n",
    "    string_out += this_token + ','\n",
    "    del tokens[rand_index]\n",
    "\n",
    "print(random_tokens)\n",
    "print(string_out)"
   ]
  },
  {
   "cell_type": "code",
   "execution_count": 5,
   "metadata": {},
   "outputs": [
    {
     "name": "stdout",
     "output_type": "stream",
     "text": [
      "[]\n",
      "\n"
     ]
    }
   ],
   "source": [
    "\n"
   ]
  }
 ],
 "metadata": {
  "kernelspec": {
   "display_name": "Python 3.8.10 64-bit",
   "language": "python",
   "name": "python3"
  },
  "language_info": {
   "codemirror_mode": {
    "name": "ipython",
    "version": 3
   },
   "file_extension": ".py",
   "mimetype": "text/x-python",
   "name": "python",
   "nbconvert_exporter": "python",
   "pygments_lexer": "ipython3",
   "version": "3.8.10"
  },
  "orig_nbformat": 4,
  "vscode": {
   "interpreter": {
    "hash": "78e90a727851e485d5f1ead1f88910482c4bc1fa05371e29f96c9ced0c7e162f"
   }
  }
 },
 "nbformat": 4,
 "nbformat_minor": 2
}
